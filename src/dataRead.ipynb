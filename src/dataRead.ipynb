{
 "cells": [
  {
   "cell_type": "code",
   "execution_count": 1,
   "id": "f8b97f0d",
   "metadata": {},
   "outputs": [],
   "source": [
    "import pandas"
   ]
  },
  {
   "cell_type": "code",
   "execution_count": 5,
   "id": "141c1784",
   "metadata": {},
   "outputs": [
    {
     "name": "stdout",
     "output_type": "stream",
     "text": [
      "<class 'pandas.core.frame.DataFrame'>\n",
      "RangeIndex: 73779 entries, 0 to 73778\n",
      "Data columns (total 21 columns):\n",
      " #   Column         Non-Null Count  Dtype  \n",
      "---  ------         --------------  -----  \n",
      " 0   Timestamp      73779 non-null  float64\n",
      " 1   angle          73779 non-null  float64\n",
      " 2   curLapTime     73779 non-null  float64\n",
      " 3   damage         73779 non-null  int64  \n",
      " 4   distFromStart  73779 non-null  float64\n",
      " 5   distRaced      73779 non-null  float64\n",
      " 6   fuel           73779 non-null  float64\n",
      " 7   gear           73779 non-null  int64  \n",
      " 8   lastLapTime    73779 non-null  float64\n",
      " 9   opponents      73779 non-null  object \n",
      " 10  racePos        73779 non-null  int64  \n",
      " 11  rpm            73779 non-null  float64\n",
      " 12  speedX         73779 non-null  float64\n",
      " 13  speedY         73779 non-null  float64\n",
      " 14  speedZ         73779 non-null  float64\n",
      " 15  track          73779 non-null  object \n",
      " 16  trackPos       73779 non-null  float64\n",
      " 17  wheelSpinVel   73779 non-null  object \n",
      " 18  z              73779 non-null  float64\n",
      " 19  focus          73779 non-null  object \n",
      " 20  Sent           0 non-null      float64\n",
      "dtypes: float64(14), int64(3), object(4)\n",
      "memory usage: 11.8+ MB\n"
     ]
    }
   ],
   "source": [
    "data = pandas.read_csv('../client_log.csv')\n",
    "\n",
    "data.info() "
   ]
  },
  {
   "cell_type": "code",
   "execution_count": null,
   "id": "d0943781",
   "metadata": {},
   "outputs": [],
   "source": []
  }
 ],
 "metadata": {
  "kernelspec": {
   "display_name": "Python 3",
   "language": "python",
   "name": "python3"
  },
  "language_info": {
   "codemirror_mode": {
    "name": "ipython",
    "version": 3
   },
   "file_extension": ".py",
   "mimetype": "text/x-python",
   "name": "python",
   "nbconvert_exporter": "python",
   "pygments_lexer": "ipython3",
   "version": "3.10.11"
  }
 },
 "nbformat": 4,
 "nbformat_minor": 5
}
